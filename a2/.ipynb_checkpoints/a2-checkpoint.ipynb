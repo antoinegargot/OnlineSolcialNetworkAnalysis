{
 "cells": [
  {
   "cell_type": "code",
   "execution_count": 4,
   "metadata": {},
   "outputs": [],
   "source": [
    "\"\"\"\n",
    "CS579: Assignment 2\n",
    "\n",
    "In this assignment, you will build a text classifier to determine whether a\n",
    "movie review is expressing positive or negative sentiment. The data come from\n",
    "the website IMDB.com.\n",
    "\n",
    "You'll write code to preprocess the data in different ways (creating different\n",
    "features), then compare the cross-validation accuracy of each approach. Then,\n",
    "you'll compute accuracy on a test set and do some analysis of the errors.\n",
    "\n",
    "The main method takes about 40 seconds for me to run on my laptop. Places to\n",
    "check for inefficiency include the vectorize function and the\n",
    "eval_all_combinations function.\n",
    "\n",
    "Complete the 14 methods below, indicated by TODO.\n",
    "\n",
    "As usual, completing one method at a time, and debugging with doctests, should\n",
    "help.\n",
    "\"\"\"\n",
    "\n",
    "# No imports allowed besides these.\n",
    "from collections import Counter, defaultdict\n",
    "from itertools import chain, combinations\n",
    "import glob\n",
    "import matplotlib.pyplot as plt\n",
    "import numpy as np\n",
    "import os\n",
    "import re\n",
    "from scipy.sparse import csr_matrix\n",
    "from sklearn.model_selection import KFold\n",
    "from sklearn.linear_model import LogisticRegression\n",
    "import string\n",
    "import tarfile\n",
    "import urllib.request"
   ]
  },
  {
   "cell_type": "code",
   "execution_count": 5,
   "metadata": {},
   "outputs": [],
   "source": [
    "def download_data():\n",
    "    \"\"\" Download and unzip data.\n",
    "    DONE ALREADY.\n",
    "    \"\"\"\n",
    "    url = 'https://www.dropbox.com/s/xk4glpk61q3qrg2/imdb.tgz?dl=1'\n",
    "    urllib.request.urlretrieve(url, 'imdb.tgz')\n",
    "    tar = tarfile.open(\"imdb.tgz\")\n",
    "    tar.extractall()\n",
    "    tar.close()"
   ]
  },
  {
   "cell_type": "code",
   "execution_count": 6,
   "metadata": {},
   "outputs": [],
   "source": [
    "def read_data(path):\n",
    "    \"\"\"\n",
    "    Walks all subdirectories of this path and reads all\n",
    "    the text files and labels.\n",
    "    DONE ALREADY.\n",
    "\n",
    "    Params:\n",
    "      path....path to files\n",
    "    Returns:\n",
    "      docs.....list of strings, one per document\n",
    "      labels...list of ints, 1=positive, 0=negative label.\n",
    "               Inferred from file path (i.e., if it contains\n",
    "               'pos', it is 1, else 0)\n",
    "    \"\"\"\n",
    "    fnames = sorted([f for f in glob.glob(os.path.join(path, 'pos', '*.txt'))])\n",
    "    data = [(1, open(f).readlines()[0]) for f in sorted(fnames)]\n",
    "    fnames = sorted([f for f in glob.glob(os.path.join(path, 'neg', '*.txt'))])\n",
    "    data += [(0, open(f).readlines()[0]) for f in sorted(fnames)]\n",
    "    data = sorted(data, key=lambda x: x[1])\n",
    "    return np.array([d[1] for d in data]), np.array([d[0] for d in data])\n"
   ]
  },
  {
   "cell_type": "code",
   "execution_count": 146,
   "metadata": {},
   "outputs": [],
   "source": [
    "def tokenize(doc, keep_internal_punct=False):\n",
    "    \"\"\"\n",
    "    Tokenize a string.\n",
    "    The string should be converted to lowercase.\n",
    "    If keep_internal_punct is False, then return only the alphanumerics (letters, numbers and underscore).\n",
    "    If keep_internal_punct is True, then also retain punctuation that\n",
    "    is inside of a word. E.g., in the example below, the token \"isn't\"\n",
    "    is maintained when keep_internal_punct=True; otherwise, it is\n",
    "    split into \"isn\" and \"t\" tokens.\n",
    "\n",
    "    Params:\n",
    "      doc....a string.\n",
    "      keep_internal_punct...see above\n",
    "    Returns:\n",
    "      a numpy array containing the resulting tokens.\n",
    "\n",
    "    >>> tokenize(\" Hi there! Isn't this fun?\", keep_internal_punct=False)\n",
    "    array(['hi', 'there', 'isn', 't', 'this', 'fun'], \n",
    "          dtype='<U5')\n",
    "    >>> tokenize(\"Hi there! Isn't this fun? \", keep_internal_punct=True)\n",
    "    array(['hi', 'there', \"isn't\", 'this', 'fun'], \n",
    "          dtype='<U5')\n",
    "    \"\"\"\n",
    "    \n",
    "    punctuation = '!\"#$%&\\'()*+,-./:;<=>?@[\\\\]^_`{|}~'\n",
    "    if keep_internal_punct:\n",
    "        tokens =' '.join(word.strip(punctuation) for word in doc.lower().split() if word.strip(punctuation))\n",
    "    else:\n",
    "        tokens = ' '.join(re.split(\"[\" + string.punctuation + \"]+\", doc.lower()))\n",
    "    tokens = tokens.split(' ')\n",
    "    if '' in tokens:\n",
    "        tokens = [x for x in tokens if x != '']\n",
    "    return np.array(tokens)"
   ]
  },
  {
   "cell_type": "code",
   "execution_count": 147,
   "metadata": {},
   "outputs": [],
   "source": [
    "def tokenize_without_stopwords(doc, keep_internal_punct=False):\n",
    "  \n",
    "    stopwords = [\"a\", \"about\", \"above\", \"above\", \"across\", \"after\", \"afterwards\", \"again\", \"against\", \"all\", \"almost\", \"alone\", \"along\", \"already\", \"also\",\"although\",\"always\",\"am\",\"among\", \"amongst\", \"amoungst\", \"amount\",  \"an\", \"and\", \"another\", \"any\",\"anyhow\",\"anyone\",\"anything\",\"anyway\", \"anywhere\", \"are\", \"around\", \"as\",  \"at\", \"back\",\"be\",\"became\", \"because\",\"become\",\"becomes\", \"becoming\", \"been\", \"before\", \"beforehand\", \"behind\", \"being\", \"below\", \"beside\", \"besides\", \"between\", \"beyond\", \"bill\", \"both\", \"bottom\",\"but\", \"by\", \"call\", \"can\", \"cannot\", \"cant\", \"co\", \"con\", \"could\", \"couldnt\", \"cry\", \"de\", \"describe\", \"detail\", \"do\", \"done\", \"down\", \"due\", \"during\", \"each\", \"eg\", \"eight\", \"either\", \"eleven\",\"else\", \"elsewhere\", \"empty\", \"enough\", \"etc\", \"even\", \"ever\", \"every\", \"everyone\", \"everything\", \"everywhere\", \"except\", \"few\", \"fifteen\", \"fify\", \"fill\", \"find\", \"fire\", \"first\", \"five\", \"for\", \"former\", \"formerly\", \"forty\", \"found\", \"four\", \"from\", \"front\", \"full\", \"further\", \"get\", \"give\", \"go\", \"had\", \"has\", \"hasnt\", \"have\", \"he\", \"hence\", \"her\", \"here\", \"hereafter\", \"hereby\", \"herein\", \"hereupon\", \"hers\", \"herself\", \"him\", \"himself\", \"his\", \"how\", \"however\", \"hundred\", \"ie\", \"if\", \"in\", \"inc\", \"indeed\", \"interest\", \"into\", \"is\", \"it\", \"its\", \"itself\", \"keep\", \"last\", \"latter\", \"latterly\", \"least\", \"less\", \"ltd\", \"made\", \"many\", \"may\", \"me\", \"meanwhile\", \"might\", \"mill\", \"mine\", \"more\", \"moreover\", \"most\", \"mostly\", \"move\", \"much\", \"must\", \"my\", \"myself\", \"name\", \"namely\", \"neither\", \"never\", \"nevertheless\", \"next\", \"nine\", \"no\", \"nobody\", \"none\", \"noone\", \"nor\", \"not\", \"nothing\", \"now\", \"nowhere\", \"of\", \"off\", \"often\", \"on\", \"once\", \"one\", \"only\", \"onto\", \"or\", \"other\", \"others\", \"otherwise\", \"our\", \"ours\", \"ourselves\", \"out\", \"over\", \"own\",\"part\", \"per\", \"perhaps\", \"please\", \"put\", \"rather\", \"re\", \"same\", \"see\", \"seem\", \"seemed\", \"seeming\", \"seems\", \"serious\", \"several\", \"she\", \"should\", \"show\", \"side\", \"since\", \"sincere\", \"six\", \"sixty\", \"so\", \"some\", \"somehow\", \"someone\", \"something\", \"sometime\", \"sometimes\", \"somewhere\", \"still\", \"such\", \"system\", \"take\", \"ten\", \"than\", \"that\", \"the\", \"their\", \"them\", \"themselves\", \"then\", \"thence\", \"there\", \"thereafter\", \"thereby\", \"therefore\", \"therein\", \"thereupon\", \"these\", \"they\", \"thickv\", \"thin\", \"third\", \"this\", \"those\", \"though\", \"three\", \"through\", \"throughout\", \"thru\", \"thus\", \"to\", \"together\", \"too\", \"top\", \"toward\", \"towards\", \"twelve\", \"twenty\", \"two\", \"un\", \"under\", \"until\", \"up\", \"upon\", \"us\", \"very\", \"via\", \"was\", \"we\", \"well\", \"were\", \"what\", \"whatever\", \"when\", \"whence\", \"whenever\", \"where\", \"whereafter\", \"whereas\", \"whereby\", \"wherein\", \"whereupon\", \"wherever\", \"whether\", \"which\", \"while\", \"whither\", \"who\", \"whoever\", \"whole\", \"whom\", \"whose\", \"why\", \"will\", \"with\", \"within\", \"without\", \"would\", \"yet\", \"you\", \"your\", \"yours\", \"yourself\", \"yourselves\", \"the\"]\n",
    "    token_without_stopwords = []\n",
    "    \n",
    "    punctuation = '!\"#$%&\\'()*+,-./:;<=>?@[\\\\]^_`{|}~'\n",
    "    if keep_internal_punct:\n",
    "        tokens =' '.join(word.strip(punctuation) for word in doc.lower().split() if word.strip(punctuation))\n",
    "    else:\n",
    "        tokens = ' '.join(re.split(\"[\" + string.punctuation + \"]+\", doc.lower()))\n",
    "    tokens = tokens.split(' ')\n",
    "    if '' in tokens:\n",
    "        tokens = [x for x in tokens if x != '']\n",
    "\n",
    "    for token in tokens:\n",
    "        if token not in stopwords:\n",
    "            token_without_stopwords.append(token)\n",
    "    return np.array(token_without_stopwords)"
   ]
  },
  {
   "cell_type": "code",
   "execution_count": 148,
   "metadata": {},
   "outputs": [
    {
     "name": "stdout",
     "output_type": "stream",
     "text": [
      "['hi' 'there' 'isn' 't' 'this' 'fun']\n",
      "['hi', 'there', 'isn', 't', 'this', 'fun']\n",
      "['hi' 'there' \"isn't\" 'this' 'fun']\n",
      "['hi', 'there', \"isn't\", 'this', 'fun']\n"
     ]
    }
   ],
   "source": [
    "print(tokenize(\" Hi there! Isn't this fun?\", keep_internal_punct=False))\n",
    "print(['hi', 'there', 'isn', 't', 'this', 'fun'])\n",
    "print(tokenize(\"Hi there! Isn't this fun? \", keep_internal_punct=True))\n",
    "print(['hi', 'there', \"isn't\", 'this', 'fun'])"
   ]
  },
  {
   "cell_type": "code",
   "execution_count": 149,
   "metadata": {},
   "outputs": [],
   "source": [
    "def token_features(tokens, feats):\n",
    "    \"\"\"\n",
    "    Add features for each token. The feature name\n",
    "    is pre-pended with the string \"token=\".\n",
    "    Note that the feats dict is modified in place,\n",
    "    so there is no return value.\n",
    "\n",
    "    Params:\n",
    "      tokens...array of token strings from a document.\n",
    "      feats....dict from feature name to frequency\n",
    "    Returns:\n",
    "      nothing; feats is modified in place.\n",
    "\n",
    "    >>> feats = defaultdict(lambda: 0)\n",
    "    >>> token_features(['hi', 'there', 'hi'], feats)\n",
    "    >>> sorted(feats.items())\n",
    "    [('token=hi', 2), ('token=there', 1)]\n",
    "    \"\"\"\n",
    "    c = Counter(tokens)\n",
    "    for element in c:\n",
    "        feats['token=%s' % element] = c[element]"
   ]
  },
  {
   "cell_type": "code",
   "execution_count": 150,
   "metadata": {},
   "outputs": [
    {
     "name": "stdout",
     "output_type": "stream",
     "text": [
      "[('token=hi', 2), ('token=there', 1)]\n"
     ]
    }
   ],
   "source": [
    "feats = defaultdict(lambda: 0)\n",
    "token_features(['hi', 'there', 'hi'], feats)\n",
    "print(sorted(feats.items()))"
   ]
  },
  {
   "cell_type": "code",
   "execution_count": 151,
   "metadata": {},
   "outputs": [],
   "source": [
    "def token_pair_features(tokens, feats, k=3):\n",
    "    \"\"\"\n",
    "    Compute features indicating that two words occur near\n",
    "    each other within a window of size k.\n",
    "\n",
    "    For example [a, b, c, d] with k=3 will consider the\n",
    "    windows: [a,b,c], [b,c,d]. In the first window,\n",
    "    a_b, a_c, and b_c appear; in the second window,\n",
    "    b_c, c_d, and b_d appear. This example is in the\n",
    "    doctest below.\n",
    "    Note that the order of the tokens in the feature name\n",
    "    matches the order in which they appear in the document.\n",
    "    (e.g., a__b, not b__a)\n",
    "\n",
    "    Params:\n",
    "      tokens....array of token strings from a document.\n",
    "      feats.....a dict from feature to value\n",
    "      k.........the window size (3 by default)\n",
    "    Returns:\n",
    "      nothing; feats is modified in place.\n",
    "\n",
    "    >>> feats = defaultdict(lambda: 0)\n",
    "    >>> token_pair_features(np.array(['a', 'b', 'c', 'd']), feats)\n",
    "    >>> sorted(feats.items())\n",
    "    [('token_pair=a__b', 1), ('token_pair=a__c', 1), ('token_pair=b__c', 2), ('token_pair=b__d', 1), ('token_pair=c__d', 1)]\n",
    "    \"\"\"\n",
    "    c = Counter()\n",
    "    for i in range(0,len(tokens) - k + 1):\n",
    "        c.update(list(combinations(tokens[i:i+k], 2)))\n",
    "    for element in c:\n",
    "        feats['token_pair=%s__%s' % (element[0], element[1])] = c[element]"
   ]
  },
  {
   "cell_type": "code",
   "execution_count": 152,
   "metadata": {},
   "outputs": [
    {
     "data": {
      "text/plain": [
       "[('token_pair=a__b', 1),\n",
       " ('token_pair=a__c', 1),\n",
       " ('token_pair=b__c', 2),\n",
       " ('token_pair=b__d', 1),\n",
       " ('token_pair=c__d', 1)]"
      ]
     },
     "execution_count": 152,
     "metadata": {},
     "output_type": "execute_result"
    }
   ],
   "source": [
    "feats = defaultdict(lambda: 0)\n",
    "token_pair_features(np.array(['a', 'b', 'c', 'd']), feats)\n",
    "sorted(feats.items())"
   ]
  },
  {
   "cell_type": "code",
   "execution_count": 153,
   "metadata": {},
   "outputs": [],
   "source": [
    "neg_words = set(['bad', 'hate', 'horrible', 'worst', 'boring'])\n",
    "pos_words = set(['awesome', 'amazing', 'best', 'good', 'great', 'love', 'wonderful'])\n",
    "\n",
    "def lexicon_features(tokens, feats):\n",
    "    \"\"\"\n",
    "    Add features indicating how many time a token appears that matches either\n",
    "    the neg_words or pos_words (defined above). The matching should ignore\n",
    "    case.\n",
    "\n",
    "    Params:\n",
    "      tokens...array of token strings from a document.\n",
    "      feats....dict from feature name to frequency\n",
    "    Returns:\n",
    "      nothing; feats is modified in place.\n",
    "\n",
    "    In this example, 'LOVE' and 'great' match the pos_words,\n",
    "    and 'boring' matches the neg_words list.\n",
    "    >>> feats = defaultdict(lambda: 0)\n",
    "    >>> lexicon_features(np.array(['i', 'LOVE', 'this', 'great', 'boring', 'movie']), feats)\n",
    "    >>> sorted(feats.items())\n",
    "    [('neg_words', 1), ('pos_words', 2)]\n",
    "    \"\"\"\n",
    "    feats['neg_words'] = 0\n",
    "    feats['pos_words'] = 0\n",
    "    for element in tokens:\n",
    "        if element.lower() in neg_words:\n",
    "            feats['neg_words'] += 1\n",
    "        if element.lower() in pos_words:\n",
    "            feats['pos_words'] += 1"
   ]
  },
  {
   "cell_type": "code",
   "execution_count": 154,
   "metadata": {},
   "outputs": [
    {
     "data": {
      "text/plain": [
       "[('neg_words', 1), ('pos_words', 2)]"
      ]
     },
     "execution_count": 154,
     "metadata": {},
     "output_type": "execute_result"
    }
   ],
   "source": [
    "feats = defaultdict(lambda: 0)\n",
    "lexicon_features(np.array(['i', 'LOVE', 'this', 'great', 'boring', 'movie']), feats)\n",
    "sorted(feats.items())"
   ]
  },
  {
   "cell_type": "code",
   "execution_count": 155,
   "metadata": {},
   "outputs": [],
   "source": [
    "def featurize(tokens, feature_fns):\n",
    "    \"\"\"\n",
    "    Compute all features for a list of tokens from\n",
    "    a single document.\n",
    "\n",
    "    Params:\n",
    "      tokens........array of token strings from a document.\n",
    "      feature_fns...a list of functions, one per feature\n",
    "    Returns:\n",
    "      list of (feature, value) tuples, SORTED alphabetically\n",
    "      by the feature name.\n",
    "\n",
    "    >>> feats = featurize(np.array(['i', 'LOVE', 'this', 'great', 'movie']), [token_features, lexicon_features])\n",
    "    >>> feats\n",
    "    [('neg_words', 0), ('pos_words', 2), ('token=LOVE', 1), ('token=great', 1), ('token=i', 1), ('token=movie', 1), ('token=this', 1)]\n",
    "    \"\"\"\n",
    "    feats = defaultdict(lambda: 0)\n",
    "    for function in feature_fns:\n",
    "        function(tokens, feats)\n",
    "    return(sorted(feats.items()))"
   ]
  },
  {
   "cell_type": "code",
   "execution_count": 156,
   "metadata": {},
   "outputs": [
    {
     "data": {
      "text/plain": [
       "[('neg_words', 0),\n",
       " ('pos_words', 2),\n",
       " ('token=LOVE', 1),\n",
       " ('token=great', 1),\n",
       " ('token=i', 1),\n",
       " ('token=movie', 1),\n",
       " ('token=this', 1),\n",
       " ('token_pair=LOVE__great', 1),\n",
       " ('token_pair=LOVE__this', 2),\n",
       " ('token_pair=great__movie', 1),\n",
       " ('token_pair=i__LOVE', 1),\n",
       " ('token_pair=i__this', 1),\n",
       " ('token_pair=this__great', 2),\n",
       " ('token_pair=this__movie', 1)]"
      ]
     },
     "execution_count": 156,
     "metadata": {},
     "output_type": "execute_result"
    }
   ],
   "source": [
    "feats = featurize(np.array(['i', 'LOVE', 'this', 'great', 'movie']), [token_features, lexicon_features, token_pair_features])\n",
    "feats"
   ]
  },
  {
   "cell_type": "code",
   "execution_count": 157,
   "metadata": {},
   "outputs": [],
   "source": [
    "def vectorize(tokens_list, feature_fns, min_freq, vocab=None):\n",
    "    \"\"\"\n",
    "    Given the tokens for a set of documents, create a sparse\n",
    "    feature matrix, where each row represents a document, and\n",
    "    each column represents a feature.\n",
    "\n",
    "    Params:\n",
    "      tokens_list...a list of lists; each sublist is an\n",
    "                    array of token strings from a document.\n",
    "      feature_fns...a list of functions, one per feature\n",
    "      min_freq......Remove features that do not appear in\n",
    "                    at least min_freq different documents.\n",
    "    Returns:\n",
    "      - a csr_matrix: See https://goo.gl/f5TiF1 for documentation.\n",
    "      This is a sparse matrix (zero values are not stored).\n",
    "      - vocab: a dict from feature name to column index. NOTE\n",
    "      that the columns are sorted alphabetically (so, the feature\n",
    "      \"token=great\" is column 0 and \"token=horrible\" is column 1\n",
    "      because \"great\" < \"horrible\" alphabetically),\n",
    "\n",
    "    >>> docs = [\"Isn't this movie great?\", \"Horrible, horrible movie\"]\n",
    "    >>> tokens_list = [tokenize(d) for d in docs]\n",
    "    >>> feature_fns = [token_features]\n",
    "    >>> X, vocab = vectorize(tokens_list, feature_fns, min_freq=1)\n",
    "    >>> type(X)\n",
    "    <class 'scipy.sparse.csr.csr_matrix'>\n",
    "    >>> X.toarray()\n",
    "    array([[1, 0, 1, 1, 1, 1],\n",
    "           [0, 2, 0, 1, 0, 0]], dtype=int64)\n",
    "    >>> sorted(vocab.items(), key=lambda x: x[1])\n",
    "    [('token=great', 0), ('token=horrible', 1), ('token=isn', 2), ('token=movie', 3), ('token=t', 4), ('token=this', 5)]\n",
    "    \"\"\"\n",
    "    row = list()\n",
    "    column = list()\n",
    "    data = list()\n",
    "    index = 0\n",
    "    name = []\n",
    "    features_doc = defaultdict()\n",
    "    counter = Counter()\n",
    "    for tokens in tokens_list:\n",
    "        features = featurize(tokens, feature_fns)\n",
    "        features_doc[index] = features\n",
    "        for feature in features:\n",
    "            counter.update([feature[0]])\n",
    "        index +=1\n",
    "\n",
    "    for key, value in counter.items():\n",
    "        if value >= min_freq:\n",
    "            name.append(key)\n",
    "    name.sort()\n",
    "    \n",
    "    #Test if the vocab is already built \n",
    "    if not vocab:\n",
    "        vocab = defaultdict()\n",
    "        for i in range(len(name)):\n",
    "            vocab[name[i]] = i\n",
    "            \n",
    "    for i in range(len(tokens_list)):\n",
    "        for x,y in features_doc[i]:\n",
    "            if x in vocab:\n",
    "                column.append(vocab[x])\n",
    "                row.append(i)\n",
    "                data.append(y)\n",
    "    x = csr_matrix((data, (row, column)))\n",
    "\n",
    "    return x, vocab"
   ]
  },
  {
   "cell_type": "code",
   "execution_count": 158,
   "metadata": {},
   "outputs": [
    {
     "name": "stdout",
     "output_type": "stream",
     "text": [
      "[[1 0 1 1 1 1]\n",
      " [0 2 0 1 0 0]]\n"
     ]
    },
    {
     "data": {
      "text/plain": [
       "[('token=great', 0),\n",
       " ('token=horrible', 1),\n",
       " ('token=isn', 2),\n",
       " ('token=movie', 3),\n",
       " ('token=t', 4),\n",
       " ('token=this', 5)]"
      ]
     },
     "execution_count": 158,
     "metadata": {},
     "output_type": "execute_result"
    }
   ],
   "source": [
    "docs = [\"Isn't this movie great?\", \"Horrible, horrible movie\"]\n",
    "tokens_list = [tokenize(d) for d in docs]\n",
    "feature_fns = [token_features]\n",
    "X, vocab = vectorize(tokens_list, feature_fns, min_freq=1)\n",
    "print(X.toarray())\n",
    "sorted(vocab.items(), key=lambda x: x[1])"
   ]
  },
  {
   "cell_type": "code",
   "execution_count": 159,
   "metadata": {},
   "outputs": [],
   "source": [
    "def accuracy_score(truth, predicted):\n",
    "    \"\"\" Compute accuracy of predictions.\n",
    "    DONE ALREADY\n",
    "    Params:\n",
    "      truth.......array of true labels (0 or 1)\n",
    "      predicted...array of predicted labels (0 or 1)\n",
    "    \"\"\"\n",
    "    return len(np.where(truth==predicted)[0]) / len(truth)\n"
   ]
  },
  {
   "cell_type": "code",
   "execution_count": 160,
   "metadata": {},
   "outputs": [],
   "source": [
    "def cross_validation_accuracy(clf, X, labels, k):\n",
    "    \"\"\"\n",
    "    Compute the average testing accuracy over k folds of cross-validation. You\n",
    "    can use sklearn's KFold class here (no random seed, and no shuffling\n",
    "    needed).\n",
    "\n",
    "    Params:\n",
    "      clf......A LogisticRegression classifier.\n",
    "      X........A csr_matrix of features.\n",
    "      labels...The true labels for each instance in X\n",
    "      k........The number of cross-validation folds.\n",
    "\n",
    "    Returns:\n",
    "      The average testing accuracy of the classifier\n",
    "      over each fold of cross-validation.\n",
    "    \"\"\"\n",
    "    cv = KFold(n_splits=k)\n",
    "    accuracies = []\n",
    "    if X.shape[0] > k:\n",
    "        for train_idx, test_idx in cv.split(X):\n",
    "            clf.fit(X[train_idx], labels[train_idx])\n",
    "            predicted = clf.predict(X[test_idx])\n",
    "            acc = accuracy_score(labels[test_idx], predicted)\n",
    "            accuracies.append(acc)\n",
    "    avg = np.mean(accuracies)\n",
    "    return avg"
   ]
  },
  {
   "cell_type": "code",
   "execution_count": 161,
   "metadata": {},
   "outputs": [],
   "source": [
    "def eval_all_combinations(docs, labels, punct_vals,\n",
    "                          feature_fns, min_freqs):\n",
    "    \"\"\"\n",
    "    Enumerate all possible classifier settings and compute the\n",
    "    cross validation accuracy for each setting. We will use this\n",
    "    to determine which setting has the best accuracy.\n",
    "\n",
    "    For each setting, construct a LogisticRegression classifier\n",
    "    and compute its cross-validation accuracy for that setting.\n",
    "\n",
    "    In addition to looping over possible assignments to\n",
    "    keep_internal_punct and min_freqs, we will enumerate all\n",
    "    possible combinations of feature functions. So, if\n",
    "    feature_fns = [token_features, token_pair_features, lexicon_features],\n",
    "    then we will consider all 7 combinations of features (see Log.txt\n",
    "    for more examples).\n",
    "\n",
    "    Params:\n",
    "      docs..........The list of original training documents.\n",
    "      labels........The true labels for each training document (0 or 1)\n",
    "      punct_vals....List of possible assignments to\n",
    "                    keep_internal_punct (e.g., [True, False])\n",
    "      feature_fns...List of possible feature functions to use\n",
    "      min_freqs.....List of possible min_freq values to use\n",
    "                    (e.g., [2,5,10])\n",
    "\n",
    "    Returns:\n",
    "      A list of dicts, one per combination. Each dict has\n",
    "      four keys:\n",
    "      'punct': True or False, the setting of keep_internal_punct\n",
    "      'features': The list of functions used to compute features.\n",
    "      'min_freq': The setting of the min_freq parameter.\n",
    "      'accuracy': The average cross_validation accuracy for this setting, using 5 folds.\n",
    "\n",
    "      This list should be SORTED in descending order of accuracy.\n",
    "\n",
    "      This function will take a bit longer to run (~20s for me).\n",
    "    \"\"\"\n",
    "    result = []\n",
    "    feats = []\n",
    "    for i in range(len(feature_fns)):\n",
    "        feats += combinations(feature_fns, i+1)\n",
    "    feats = [list(item) for item in feats]\n",
    "    \n",
    "    for func_combination in feats:\n",
    "        for freq in min_freqs:\n",
    "            for punc in punct_vals:\n",
    "                tokens_list = [tokenize(d, punc) for d in docs]\n",
    "                X, vocab = vectorize(tokens_list, func_combination, freq)\n",
    "                clf = LogisticRegression()\n",
    "                result.append({'punct' : punc, 'features': tuple(func_combination), 'min_freq' : freq, 'accuracy' : cross_validation_accuracy(clf, X, labels, 5)})\n",
    "    return sorted(result, key=lambda x: x['accuracy'])[::-1]"
   ]
  },
  {
   "cell_type": "code",
   "execution_count": 162,
   "metadata": {},
   "outputs": [],
   "source": [
    "docs, labels = read_data(os.path.join('data', 'train'))"
   ]
  },
  {
   "cell_type": "code",
   "execution_count": 163,
   "metadata": {
    "scrolled": true
   },
   "outputs": [
    {
     "name": "stdout",
     "output_type": "stream",
     "text": [
      "best cross-validation result:\n",
      "{'punct': True, 'features': (<function token_pair_features at 0x115855bf8>, <function lexicon_features at 0x116b4fe18>), 'min_freq': 2, 'accuracy': 0.77000000000000013}\n",
      "worst cross-validation result:\n",
      "{'punct': True, 'features': (<function lexicon_features at 0x116b4fe18>,), 'min_freq': 2, 'accuracy': 0.64749999999999996}\n"
     ]
    }
   ],
   "source": [
    "feature_fns = [token_features, token_pair_features, lexicon_features]\n",
    "results = eval_all_combinations(docs, labels,\n",
    "                                [True, False],\n",
    "                                feature_fns,\n",
    "                                [2,5,10])\n",
    "# Print information about these results.\n",
    "best_result = results[0]\n",
    "worst_result = results[-1]\n",
    "print('best cross-validation result:\\n%s' % str(best_result))\n",
    "print('worst cross-validation result:\\n%s' % str(worst_result))"
   ]
  },
  {
   "cell_type": "code",
   "execution_count": 164,
   "metadata": {},
   "outputs": [],
   "source": [
    "def plot_sorted_accuracies(results):\n",
    "    \"\"\"\n",
    "    Plot all accuracies from the result of eval_all_combinations\n",
    "    in ascending order of accuracy.\n",
    "    Save to \"accuracies.png\".\n",
    "    \"\"\"\n",
    "    values = [result['accuracy'] for result in results]\n",
    "    values = values[::-1]\n",
    "    plt.plot(values,range(0, len(values)))\n",
    "    plt.xlabel(\"setting\")\n",
    "    plt.ylabel(\"accuracy\")\n",
    "    plt.savefig('accuracies.png')"
   ]
  },
  {
   "cell_type": "code",
   "execution_count": 165,
   "metadata": {},
   "outputs": [],
   "source": [
    "def mean_accuracy_per_setting(results):\n",
    "    \"\"\"\n",
    "    To determine how important each model setting is to overall accuracy,\n",
    "    we'll compute the mean accuracy of all combinations with a particular\n",
    "    setting. For example, compute the mean accuracy of all runs with\n",
    "    min_freq=2.\n",
    "\n",
    "    Params:\n",
    "      results...The output of eval_all_combinations\n",
    "    Returns:\n",
    "      A list of (accuracy, setting) tuples, SORTED in\n",
    "      descending order of accuracy.\n",
    "    \"\"\"\n",
    "    accurracy_settings = defaultdict(list)\n",
    "    final_acc = []\n",
    "    for result in results: \n",
    "        for key in result:\n",
    "            if key != 'accuracy':\n",
    "                if str(key) == \"features\":\n",
    "                    setting = str(key)+\"=\"+\" \".join(str(func.__name__) for func in result[key])\n",
    "                else:\n",
    "                    setting = str(key)+\"=\"+str(result[key])   \n",
    "                accurracy_settings[setting].append(result['accuracy'])\n",
    "    for key, value in accurracy_settings.items():\n",
    "        final_acc.append((np.mean(value),key))\n",
    "    return(sorted(final_acc)[::-1])"
   ]
  },
  {
   "cell_type": "code",
   "execution_count": 166,
   "metadata": {},
   "outputs": [
    {
     "name": "stdout",
     "output_type": "stream",
     "text": [
      "\n",
      "Mean Accuracies per Setting:\n",
      "features=token_pair_features lexicon_features: 0.75000\n",
      "features=token_features token_pair_features lexicon_features: 0.74625\n",
      "features=token_features token_pair_features: 0.73625\n",
      "features=token_pair_features: 0.72875\n",
      "min_freq=2: 0.72321\n",
      "punct=False: 0.72048\n",
      "min_freq=5: 0.71875\n",
      "punct=True: 0.70810\n",
      "min_freq=10: 0.70089\n",
      "features=token_features lexicon_features: 0.69667\n",
      "features=token_features: 0.69083\n",
      "features=lexicon_features: 0.65125\n"
     ]
    }
   ],
   "source": [
    "print('\\nMean Accuracies per Setting:')\n",
    "print('\\n'.join(['%s: %.5f' % (s,v) for v,s in mean_accuracy_per_setting(results)]))"
   ]
  },
  {
   "cell_type": "code",
   "execution_count": 167,
   "metadata": {},
   "outputs": [],
   "source": [
    "def fit_best_classifier(docs, labels, best_result):\n",
    "    \"\"\"\n",
    "    Using the best setting from eval_all_combinations,\n",
    "    re-vectorize all the training data and fit a\n",
    "    LogisticRegression classifier to all training data.\n",
    "    (i.e., no cross-validation done here)\n",
    "\n",
    "    Params:\n",
    "      docs..........List of training document strings.\n",
    "      labels........The true labels for each training document (0 or 1)\n",
    "      best_result...Element of eval_all_combinations\n",
    "                    with highest accuracy\n",
    "    Returns:\n",
    "      clf.....A LogisticRegression classifier fit to all\n",
    "            training data.\n",
    "      vocab...The dict from feature name to column index.\n",
    "    \"\"\"\n",
    "    token_list = [tokenize(d, best_result['punct']) for d in docs]\n",
    "    X, vocab = vectorize(token_list, list(best_result['features']), best_result['min_freq'])\n",
    "    clf = LogisticRegression()\n",
    "    clf.fit(X,labels)\n",
    "    return clf, vocab"
   ]
  },
  {
   "cell_type": "code",
   "execution_count": 168,
   "metadata": {},
   "outputs": [],
   "source": [
    "def top_coefs(clf, label, n, vocab):\n",
    "    \"\"\"\n",
    "    Find the n features with the highest coefficients in\n",
    "    this classifier for this label.\n",
    "    See the .coef_ attribute of LogisticRegression.\n",
    "\n",
    "    Params:\n",
    "      clf.....LogisticRegression classifier\n",
    "      label...1 or 0; if 1, return the top coefficients\n",
    "              for the positive class; else for negative.\n",
    "      n.......The number of coefficients to return.\n",
    "      vocab...Dict from feature name to column index.\n",
    "    Returns:\n",
    "      List of (feature_name, coefficient) tuples, SORTED\n",
    "      in descending order of the coefficient for the\n",
    "      given class label.\n",
    "    \"\"\"\n",
    "    arr = clf.coef_[0]\n",
    "    feature_coefficient=[]\n",
    "    if label==1:\n",
    "        coefficient=list(arr.argsort())[-n:][::-1]\n",
    "    else:\n",
    "        coefficient=list(arr.argsort())[:n]\n",
    "    for coef in coefficient:\n",
    "        for key in vocab:\n",
    "            if vocab[key] == coef:\n",
    "                feature_coefficient.append((key,arr[coef]))\n",
    "    return feature_coefficient"
   ]
  },
  {
   "cell_type": "code",
   "execution_count": 169,
   "metadata": {},
   "outputs": [
    {
     "name": "stdout",
     "output_type": "stream",
     "text": [
      "\n",
      "TOP COEFFICIENTS PER CLASS:\n",
      "negative words:\n",
      "neg_words: 0.66113\n",
      "token_pair=the__worst: 0.37465\n",
      "token_pair=is__so: 0.31499\n",
      "token_pair=about__the: 0.30307\n",
      "token_pair=like__a: 0.27059\n",
      "\n",
      "positive words:\n",
      "pos_words: 0.52554\n",
      "token_pair=it__is: 0.24468\n",
      "token_pair=a__lot: 0.21013\n",
      "token_pair=to__find: 0.20849\n",
      "token_pair=the__and: 0.20232\n"
     ]
    }
   ],
   "source": [
    "clf, vocab = fit_best_classifier(docs, labels, results[0])\n",
    "# Print top coefficients per class.\n",
    "print('\\nTOP COEFFICIENTS PER CLASS:')\n",
    "print('negative words:')\n",
    "print('\\n'.join(['%s: %.5f' % (t,v) for t,v in top_coefs(clf, 0, 5, vocab)]))\n",
    "print('\\npositive words:')\n",
    "print('\\n'.join(['%s: %.5f' % (t,v) for t,v in top_coefs(clf, 1, 5, vocab)]))"
   ]
  },
  {
   "cell_type": "code",
   "execution_count": 170,
   "metadata": {},
   "outputs": [],
   "source": [
    "def parse_test_data(best_result, vocab):\n",
    "    \"\"\"\n",
    "    Using the vocabulary fit to the training data, read\n",
    "    and vectorize the testing data. Note that vocab should\n",
    "    be passed to the vectorize function to ensure the feature\n",
    "    mapping is consistent from training to testing.\n",
    "\n",
    "    Note: use read_data function defined above to read the\n",
    "    test data.\n",
    "\n",
    "    Params:\n",
    "      best_result...Element of eval_all_combinations\n",
    "                    with highest accuracy\n",
    "      vocab.........dict from feature name to column index,\n",
    "                    built from the training data.\n",
    "    Returns:\n",
    "      test_docs.....List of strings, one per testing document,\n",
    "                    containing the raw.\n",
    "      test_labels...List of ints, one per testing document,\n",
    "                    1 for positive, 0 for negative.\n",
    "      X_test........A csr_matrix representing the features\n",
    "                    in the test data. Each row is a document,\n",
    "                    each column is a feature.\n",
    "    \"\"\"\n",
    "    test_tokens = []\n",
    "    docs, test_labels = read_data(os.path.join('data', 'test'))    \n",
    "    test_tokens = [tokenize(doc, best_result['punct']) for doc in docs]\n",
    "    X_test, vocab = vectorize(test_tokens, list(best_result['features']), best_result['min_freq'], vocab)\n",
    "    return docs, test_labels, X_test"
   ]
  },
  {
   "cell_type": "code",
   "execution_count": 171,
   "metadata": {},
   "outputs": [],
   "source": [
    "test_docs, test_labels, X_test = parse_test_data(best_result, vocab)"
   ]
  },
  {
   "cell_type": "code",
   "execution_count": 178,
   "metadata": {},
   "outputs": [],
   "source": [
    "def print_top_misclassified(test_docs, test_labels, X_test, clf, n):\n",
    "    \"\"\"\n",
    "    Print the n testing documents that are misclassified by the\n",
    "    largest margin. By using the .predict_proba function of\n",
    "    LogisticRegression <https://goo.gl/4WXbYA>, we can get the\n",
    "    predicted probabilities of each class for each instance.\n",
    "    We will first identify all incorrectly classified documents,\n",
    "    then sort them in descending order of the predicted probability\n",
    "    for the incorrect class.\n",
    "    E.g., if document i is misclassified as positive, we will\n",
    "    consider the probability of the positive class when sorting.\n",
    "\n",
    "    Params:\n",
    "      test_docs.....List of strings, one per test document\n",
    "      test_labels...Array of true testing labels\n",
    "      X_test........csr_matrix for test data\n",
    "      clf...........LogisticRegression classifier fit on all training\n",
    "                    data.\n",
    "      n.............The number of documents to print.\n",
    "\n",
    "    Returns:\n",
    "      Nothing; see Log.txt for example printed output.\n",
    "    \"\"\"\n",
    "    predict = clf.predict(X_test)\n",
    "    proba = clf.predict_proba(X_test)\n",
    "    misclassified  = []\n",
    "    \n",
    "    for i in range(len(test_labels)):\n",
    "        if predict[i] != test_labels[i] :\n",
    "            misclassified.append((test_labels[i], predict[i], proba[i][predict[i]], test_docs[i]))\n",
    "    misclassified.sort(key = lambda x: x[2], reverse = True)\n",
    "\n",
    "    for i in range(n):\n",
    "        print('\\ntruth=' + str(misclassified[i][0]) + ' predicted=' + str(misclassified[i][1]) + ' proba=%.6f' % misclassified[i][2])    \n",
    "        print(str(misclassified[i][3]))"
   ]
  },
  {
   "cell_type": "code",
   "execution_count": 179,
   "metadata": {},
   "outputs": [
    {
     "name": "stdout",
     "output_type": "stream",
     "text": [
      "testing accuracy=0.730000\n"
     ]
    }
   ],
   "source": [
    "clf, vocab = fit_best_classifier(docs, labels, results[0])\n",
    "predictions = clf.predict(X_test)\n",
    "print('testing accuracy=%f' %\n",
    "      accuracy_score(test_labels, predictions))"
   ]
  },
  {
   "cell_type": "code",
   "execution_count": 180,
   "metadata": {},
   "outputs": [
    {
     "name": "stdout",
     "output_type": "stream",
     "text": [
      "best cross-validation result:\n",
      "{'punct': True, 'features': (<function token_pair_features at 0x115855bf8>, <function lexicon_features at 0x116b4fe18>), 'min_freq': 2, 'accuracy': 0.77000000000000013}\n",
      "worst cross-validation result:\n",
      "{'punct': True, 'features': (<function lexicon_features at 0x116b4fe18>,), 'min_freq': 2, 'accuracy': 0.64749999999999996}\n",
      "\n",
      "Mean Accuracies per Setting:\n",
      "features=token_pair_features lexicon_features: 0.75000\n",
      "features=token_features token_pair_features lexicon_features: 0.74625\n",
      "features=token_features token_pair_features: 0.73625\n",
      "features=token_pair_features: 0.72875\n",
      "min_freq=2: 0.72321\n",
      "punct=False: 0.72048\n",
      "min_freq=5: 0.71875\n",
      "punct=True: 0.70810\n",
      "min_freq=10: 0.70089\n",
      "features=token_features lexicon_features: 0.69667\n",
      "features=token_features: 0.69083\n",
      "features=lexicon_features: 0.65125\n",
      "\n",
      "TOP COEFFICIENTS PER CLASS:\n",
      "negative words:\n",
      "neg_words: 0.66113\n",
      "token_pair=the__worst: 0.37465\n",
      "token_pair=is__so: 0.31499\n",
      "token_pair=about__the: 0.30307\n",
      "token_pair=like__a: 0.27059\n",
      "\n",
      "positive words:\n",
      "pos_words: 0.52554\n",
      "token_pair=it__is: 0.24468\n",
      "token_pair=a__lot: 0.21013\n",
      "token_pair=to__find: 0.20849\n",
      "token_pair=the__and: 0.20232\n",
      "testing accuracy=0.730000\n",
      "\n",
      "TOP MISCLASSIFIED TEST DOCUMENTS:\n",
      "\n",
      "truth=0 predicted=1 proba=0.993731\n",
      "I absolutely despise this film. I wanted to love it - I really wanted to. But man, oh man - they were SO off with Sara. And the father living was pretty cheesy. That's straight out of the Shirley Temple film.<br /><br />I highly recommend THE BOOK. It is amazing. In the book, Sara is honorable and decent and she does the right thing... BECAUSE IT IS RIGHT. She doesn't have a spiteful bone in her body.<br /><br />In the film, she is mean-spirited and spiteful. She does little things to get back at Miss Minchin. In the book, Sara is above such things. She DOES stand up to Miss Minchin. She tells the truth and is not cowed by her. But she does not do the stupid, spiteful things that the Sara in the film does.<br /><br />It's really rather unsettling to me that so many here say they loved the book and they love the movie. I can't help but wonder... did we read the same book? The whole point of the book was personal responsibility, behaving with honor and integrity, ALWAYS telling the truth and facing adversity with calm and integrity.<br /><br />Sara has a happy ending in the book - not the ridiculous survival of her father, but the joining with his partner who has been searching for her. In the book, she is taken in by this new father figure who loves and cares for her and Becky. And Miss Minchin is NOT a chimney sweep - that part of the film really was stupid.<br /><br />To see all this praise for this wretched film is disturbing to me. We are praising a film that glorifies petty, spiteful behavior with a few tips of the hat to kindness? Sara in the book was kind to the bone and full of integrity. I don't even recognize her in the film... she's not in it.<br /><br />Good thing Mrs. Burnett isn't alive to see this horrid thing. It's ghastly and undeserving to bear the title of her book.\n",
      "\n",
      "truth=0 predicted=1 proba=0.991584\n",
      "When I attended college in the early 70s, it was a simpler time. Except for a brief occurrence in 1994, I've been totally free of the influence of illegal substances ever since and I've never regretted it...until now. DB:TBTE has got to be, hands-down, the best movie to watch when stoned. The odd, dreamlike state it creates is very strange when you're not smoking anything, but I'm sure that it would seem completely normal after a big doobie. (Not that I'm recommending this, you understand.) The soothing narration, provided, as it usually is in quality cinema, by a TB victim trapped in a painting, would be ideal to help the stoned viewer to follow along as things get complicated. Plus, everything in the film is pretty organic...from old-fashioned natural breasts to the bucket of fried chicken.<br /><br />Now, there's also no question that the young man with the (ahem) \"hand problem\" is absolutely sailing away in the film. At one point, you just KNOW that he's going to say, \"Hey! When I move my hand, it leaves trails!!\" Trust me...you'll know when you get to that point.<br /><br />The only other thing we have to address is this: How good can a film be when at least half the budget was spent on moving a huge bed frame around for interior and exterior shots? <br /><br />Definitely a must-see for horror aficionados, but suitable for the general audiences under the right conditions (if you know what I mean, and I think that you do). It only earns four stars because I can't actually say that it took any talent to make.\n",
      "\n",
      "truth=1 predicted=0 proba=0.990791\n",
      "In defense of this movie I must repeat what I had stated previously. The movie is called Arachina, it has a no name cast and I do not mean no name as in actors who play in little seen art house films. I mean no name as in your local high school decided to make a film no name and it might have a 2 dollar budget. So what does one expect? Hitchcock?<br /><br />I felt the movie never took itself seriously which automatically takes it out of the worst movie list. That list is only for big budget all star cast movies that takes itself way too seriously. THe movie The Oscar comes to mind, most of Sylvester Stallone's movies. THe two leads were not Hepburn and Tracy but they did their jobs well enough for this movie. The woman kicked butt and the guy was not a blithering idiot. The actor who played the old man was actually very good. The man who played anal retentive professor was no Clifton Webb but he did a god job. And the Bimbo's for lack of a better were played by two competent actors. I laughed at the 50 cent special effects. But that was part of the charm of the movie. It played like a hybrid Tremors meets Night of the Living Dead. The premise of the movie is just like all Giant Bug movies of the 50's. A Meteor or radiation stir up the ecosystem and before you know it we have Giant Ants, Lobsters, rocks or Lizards terrorizing the locals. A meteor was the cause of the problems this time. I was was very entertained. I didn't expect much and I go a lot more then I bargained for.\n",
      "\n",
      "truth=1 predicted=0 proba=0.990739\n",
      "Being a freshman in college, this movie reminded me of my relationship with my mom. Of course, my situation doesn't parrallel with Natalie Portman and Surandon's situation; but my mom and I have grown up with the typical mother and daughter fights. There is always the mother telling you what to do, or not being the kind of mother you want to be. I was balling my eyes at the end of this movie. Surandon's reaction of her daughter going to the East coast, miles away, after all they've been through reminded me of how I felt, being from a small city in the West coast, going to New York. <br /><br />The movie is meant for women who have children that are now all grown up. It is very touching, I was moved by the movie. Every feeling out of the characters in this movie was utterly real, you didn't get any phony sentimentality. I was sitting through the credits at the screening of this movie, alone, wishing my mother was sitting next to me so I could hug her and thank her for everything. This movie is a bit corny of course, but everything is trully momentous. Its all about what a mom can learn from her child; and what a child learns from her mother. 8/10\n",
      "\n",
      "truth=1 predicted=0 proba=0.974652\n",
      "Ah, classic comedy. At the point in the movie where brains get messed together, a two minute scene with Bruce Campbell beating himself up partially, reminds me of how simplistic movies and ideas can grab you and wrap you into a whole movie.<br /><br />For years and years, Bruce Campbell knows what kind of movies we want out of him. We want to see weird movies like Bubba Ho Tep. We want to see cameo roles in Sam Raimi movies, and we want to see 'Man with the Screaming Brain'. With the title alone, one knows that it's going to border that completely silly type of movie, like Army of Darkness, only with more silly and less monsters.<br /><br />The idea of the movie is simple. Bruce sees doctor. Doctor has new idea. Bruce gets bad things happen to him on way to see doctor. Coincidentally, it's the thing the doctor wanted to show him that saves him. Hilarity ensues.<br /><br />With the addition of Ted Raimi as a weird Russian guy, and journeyman Stacy Keach as Dr. Ivan Ivanovich Ivanov, it's funny, that does this movie. Complete funny. Never a point of scary.<br /><br />If you like the silly Bruce Campbell, you'll like this. Then again, why would you be watching this if you didn't like Bruce Campbell?\n"
     ]
    }
   ],
   "source": [
    "\"\"\"\n",
    "Put it all together.\n",
    "ALREADY DONE.\n",
    "\"\"\"\n",
    "feature_fns = [token_features, token_pair_features, lexicon_features]\n",
    "# Download and read data.\n",
    "download_data()\n",
    "docs, labels = read_data(os.path.join('data', 'train'))\n",
    "# Evaluate accuracy of many combinations\n",
    "# of tokenization/featurization.\n",
    "results = eval_all_combinations(docs, labels,\n",
    "                                [True, False],\n",
    "                                feature_fns,\n",
    "                                [2,5,10])\n",
    "# Print information about these results.\n",
    "best_result = results[0]\n",
    "worst_result = results[-1]\n",
    "print('best cross-validation result:\\n%s' % str(best_result))\n",
    "print('worst cross-validation result:\\n%s' % str(worst_result))\n",
    "plot_sorted_accuracies(results)\n",
    "print('\\nMean Accuracies per Setting:')\n",
    "print('\\n'.join(['%s: %.5f' % (s,v) for v,s in mean_accuracy_per_setting(results)]))\n",
    "\n",
    "# Fit best classifier.\n",
    "clf, vocab = fit_best_classifier(docs, labels, results[0])\n",
    "\n",
    "# Print top coefficients per class.\n",
    "print('\\nTOP COEFFICIENTS PER CLASS:')\n",
    "print('negative words:')\n",
    "print('\\n'.join(['%s: %.5f' % (t,v) for t,v in top_coefs(clf, 0, 5, vocab)]))\n",
    "print('\\npositive words:')\n",
    "print('\\n'.join(['%s: %.5f' % (t,v) for t,v in top_coefs(clf, 1, 5, vocab)]))\n",
    "\n",
    "# Parse test data\n",
    "test_docs, test_labels, X_test = parse_test_data(best_result, vocab)\n",
    "\n",
    "# Evaluate on test set.\n",
    "predictions = clf.predict(X_test)\n",
    "print('testing accuracy=%f' %\n",
    "      accuracy_score(test_labels, predictions))\n",
    "\n",
    "print('\\nTOP MISCLASSIFIED TEST DOCUMENTS:')\n",
    "print_top_misclassified(test_docs, test_labels, X_test, clf, 5)\n"
   ]
  },
  {
   "cell_type": "code",
   "execution_count": null,
   "metadata": {},
   "outputs": [],
   "source": []
  }
 ],
 "metadata": {
  "kernelspec": {
   "display_name": "Python 3",
   "language": "python",
   "name": "python3"
  },
  "language_info": {
   "codemirror_mode": {
    "name": "ipython",
    "version": 3
   },
   "file_extension": ".py",
   "mimetype": "text/x-python",
   "name": "python",
   "nbconvert_exporter": "python",
   "pygments_lexer": "ipython3",
   "version": "3.6.4"
  }
 },
 "nbformat": 4,
 "nbformat_minor": 2
}
