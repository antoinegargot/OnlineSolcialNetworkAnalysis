{
 "cells": [
  {
   "cell_type": "code",
   "execution_count": 2,
   "metadata": {
    "ExecuteTime": {
     "end_time": "2018-04-24T04:19:03.614873Z",
     "start_time": "2018-04-24T04:19:03.208905Z"
    }
   },
   "outputs": [],
   "source": [
    "import matplotlib.pyplot as plt\n",
    "import networkx as nx"
   ]
  },
  {
   "cell_type": "code",
   "execution_count": 33,
   "metadata": {
    "ExecuteTime": {
     "end_time": "2018-04-24T05:05:39.448491Z",
     "start_time": "2018-04-24T05:05:39.416854Z"
    }
   },
   "outputs": [],
   "source": [
    "def jaccard_wt(graph, node):\n",
    "    \"\"\"\n",
    "    The weighted jaccard score, defined in bonus.md.\n",
    "    Args:\n",
    "      graph....a networkx graph\n",
    "      node.....a node to score potential new edges for.\n",
    "    Returns:\n",
    "      A list of ((node, ni), score) tuples, representing the \n",
    "                score assigned to edge (node, ni)\n",
    "                (note the edge order)\n",
    "    \"\"\"\n",
    "    candidates = list()\n",
    "    for candidate in graph.nodes():\n",
    "        if candidate not in graph.neighbors(node) and candidate != node:\n",
    "            num = 0\n",
    "            den1 = 0\n",
    "            den2 = 0\n",
    "            for n in graph.neighbors(candidate):\n",
    "                den1 += 1 / graph.degree(n)\n",
    "                if n in graph.neighbors(node):\n",
    "                    num += 1 / graph.degree(n)\n",
    "            for n in graph.neighbors(node):\n",
    "                den1 += 1 / graph.degree(n)\n",
    "            candidates.append(((node, candidate), num / (den1 + den2)))\n",
    "    return candidates"
   ]
  },
  {
   "cell_type": "code",
   "execution_count": 35,
   "metadata": {
    "ExecuteTime": {
     "end_time": "2018-04-24T05:22:48.247463Z",
     "start_time": "2018-04-24T05:22:48.225763Z"
    },
    "scrolled": true
   },
   "outputs": [
    {
     "data": {
      "text/plain": [
       "[(('B', 'E'), 0.13636363636363638),\n",
       " (('B', 'F'), 0.1),\n",
       " (('B', 'G'), 0.13636363636363638)]"
      ]
     },
     "execution_count": 35,
     "metadata": {},
     "output_type": "execute_result"
    }
   ],
   "source": [
    "jaccard_wt(graph, 'B')"
   ]
  },
  {
   "cell_type": "code",
   "execution_count": 25,
   "metadata": {
    "ExecuteTime": {
     "end_time": "2018-04-24T05:03:39.165853Z",
     "start_time": "2018-04-24T05:03:39.159852Z"
    }
   },
   "outputs": [],
   "source": [
    "def example_graph():\n",
    "    \"\"\"\n",
    "    Create the example graph from class. Used for testing.\n",
    "    Do not modify.\n",
    "    \"\"\"\n",
    "    g = nx.Graph()\n",
    "    g.add_edges_from([('A', 'B'), ('A', 'C'), ('B', 'C'), ('B', 'D'), ('D', 'E'), ('D', 'F'), ('D', 'G'), ('E', 'F'), ('G', 'F')])\n",
    "    return g"
   ]
  },
  {
   "cell_type": "code",
   "execution_count": 26,
   "metadata": {
    "ExecuteTime": {
     "end_time": "2018-04-24T05:03:39.653733Z",
     "start_time": "2018-04-24T05:03:39.446268Z"
    }
   },
   "outputs": [
    {
     "data": {
      "image/png": "[encoded data removed]",
      "text/plain": [
       "<matplotlib.figure.Figure at 0x112668390>"
      ]
     },
     "metadata": {},
     "output_type": "display_data"
    }
   ],
   "source": [
    "nx.draw_networkx(example_graph())\n",
    "plt.show()"
   ]
  },
  {
   "cell_type": "code",
   "execution_count": 27,
   "metadata": {
    "ExecuteTime": {
     "end_time": "2018-04-24T05:03:39.833616Z",
     "start_time": "2018-04-24T05:03:39.830632Z"
    }
   },
   "outputs": [],
   "source": [
    "graph = example_graph()"
   ]
  },
  {
   "cell_type": "code",
   "execution_count": null,
   "metadata": {},
   "outputs": [],
   "source": []
  }
 ],
 "metadata": {
  "kernelspec": {
   "display_name": "Python 3",
   "language": "python",
   "name": "python3"
  },
  "language_info": {
   "codemirror_mode": {
    "name": "ipython",
    "version": 3
   },
   "file_extension": ".py",
   "mimetype": "text/x-python",
   "name": "python",
   "nbconvert_exporter": "python",
   "pygments_lexer": "ipython3",
   "version": "3.6.4"
  },
  "varInspector": {
   "cols": {
    "lenName": 16,
    "lenType": 16,
    "lenVar": 40
   },
   "kernels_config": {
    "python": {
     "delete_cmd_postfix": "",
     "delete_cmd_prefix": "del ",
     "library": "var_list.py",
     "varRefreshCmd": "print(var_dic_list())"
    },
    "r": {
     "delete_cmd_postfix": ") ",
     "delete_cmd_prefix": "rm(",
     "library": "var_list.r",
     "varRefreshCmd": "cat(var_dic_list()) "
    }
   },
   "types_to_exclude": [
    "module",
    "function",
    "builtin_function_or_method",
    "instance",
    "_Feature"
   ],
   "window_display": false
  }
 },
 "nbformat": 4,
 "nbformat_minor": 2
}
